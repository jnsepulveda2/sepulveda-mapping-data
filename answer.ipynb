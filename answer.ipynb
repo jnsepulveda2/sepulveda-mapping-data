{
 "cells": [
  {
   "cell_type": "markdown",
   "metadata": {},
   "source": [
    "# Filtering dataset according to:\n",
    "- White Wine\n",
    "- California\n",
    "- Rating higher than 90"
   ]
  },
  {
   "cell_type": "markdown",
   "metadata": {},
   "source": [
    "## Using CSV and Dictionaries"
   ]
  },
  {
   "cell_type": "code",
   "execution_count": 62,
   "metadata": {},
   "outputs": [
    {
     "data": {
      "text/plain": [
       "dict_keys(['', 'name', 'grape', 'region', 'variety', 'rating', 'notes'])"
      ]
     },
     "execution_count": 62,
     "metadata": {},
     "output_type": "execute_result"
    }
   ],
   "source": [
    "from csv import DictReader\n",
    "\n",
    "with open('sample_data/wine-ratings-small.csv', encoding='utf-8', errors='ignore') as f:\n",
    "    reader = DictReader(f)\n",
    "    wines = list(reader)\n",
    "\n",
    "wines[0].keys()"
   ]
  },
  {
   "cell_type": "markdown",
   "metadata": {},
   "source": [
    "Filtering the data"
   ]
  },
  {
   "cell_type": "code",
   "execution_count": 73,
   "metadata": {},
   "outputs": [
    {
     "data": {
      "text/plain": [
       "[{'': '431',\n",
       "  'name': 'Leese-Fitch Chardonnay 2015',\n",
       "  'grape': '',\n",
       "  'region': 'California',\n",
       "  'variety': 'White Wine',\n",
       "  'rating': '90.0',\n",
       "  'notes': 'A rich golden hue in color, this medium-bodied Chardonnay shows enticing aromas of spiced applesauce and citrus. A rich palate showcases refreshing flavors of melon and soft vanilla leading to an exceptionally smooth and lengthy balanced finish.'},\n",
       " {'': '432',\n",
       "  'name': 'Leese-Fitch Chardonnay 2016',\n",
       "  'grape': '',\n",
       "  'region': 'California',\n",
       "  'variety': 'White Wine',\n",
       "  'rating': '90.0',\n",
       "  'notes': 'A rich golden hue in color, this medium-bodied Chardonnay shows enticing aromas of spiced applesauce and citrus. A rich palate showcases refreshing flavors of melon and soft vanilla leading to an exceptionally smooth and lengthy balanced finish.'},\n",
       " {'': '433',\n",
       "  'name': 'Leese-Fitch Chardonnay 2017',\n",
       "  'grape': '',\n",
       "  'region': 'California',\n",
       "  'variety': 'White Wine',\n",
       "  'rating': '90.0',\n",
       "  'notes': 'The 2017 Leese-Fitch Chardonnay hails from fruit picked at both ends of the Lodi appellation. This blend gives the wine a core of cool climate fruit with essence of lemon, apple, and pear. The Clarksburg Viognier gives the blend some additional complexity with notes of apricot and tangerine, rounding out the mouthfeel.'},\n",
       " {'': '435',\n",
       "  'name': 'Leese-Fitch Sauvignon Blanc 2010',\n",
       "  'grape': '',\n",
       "  'region': 'California',\n",
       "  'variety': 'White Wine',\n",
       "  'rating': '90.0',\n",
       "  'notes': \"The 2010 Leese-Fitch Sauvignon Blanc is a crisp and refreshing wine. This wine has a high-tone citrus zest aroma with minerality reminiscent of a brisk ocean breeze. There's a hint of freshly squeezed grapefruit juice and tropical Pina Colada. The palate is zippy and alive with Lemon grass spice, but balanced with a touch of creamy tapioca to round out the mid-palate. \"}]"
      ]
     },
     "execution_count": 73,
     "metadata": {},
     "output_type": "execute_result"
    }
   ],
   "source": [
    "filtered = [wine for wine in wines if (wine['region'].upper() == 'CALIFORNIA') and (wine['variety'].upper() == 'WHITE WINE') and (float(wine['rating']) >= 90) ]\n",
    "filtered"
   ]
  },
  {
   "cell_type": "markdown",
   "metadata": {},
   "source": [
    "Serializing the data and saving into json file"
   ]
  },
  {
   "cell_type": "code",
   "execution_count": 64,
   "metadata": {},
   "outputs": [],
   "source": [
    "import json\n",
    "\n",
    "with open('best_californian_white_wines.json', 'w') as f:\n",
    "    json.dump(filtered, f)"
   ]
  },
  {
   "cell_type": "markdown",
   "metadata": {},
   "source": [
    "Loading back the data"
   ]
  },
  {
   "cell_type": "code",
   "execution_count": 90,
   "metadata": {},
   "outputs": [
    {
     "name": "stdout",
     "output_type": "stream",
     "text": [
      "Size: 4 \n",
      "Keys: dict_keys(['', 'name', 'grape', 'region', 'variety', 'rating', 'notes'])\n"
     ]
    }
   ],
   "source": [
    "with open('best_californian_white_wines.json') as f:\n",
    "    loaded = json.load(f)\n",
    "\n",
    "print('Size:', len(loaded), '\\nKeys:' ,loaded[0].keys())"
   ]
  },
  {
   "cell_type": "code",
   "execution_count": 91,
   "metadata": {},
   "outputs": [
    {
     "data": {
      "text/plain": [
       "[{'': '431',\n",
       "  'name': 'Leese-Fitch Chardonnay 2015',\n",
       "  'grape': '',\n",
       "  'region': 'California',\n",
       "  'variety': 'White Wine',\n",
       "  'rating': '90.0',\n",
       "  'notes': 'A rich golden hue in color, this medium-bodied Chardonnay shows enticing aromas of spiced applesauce and citrus. A rich palate showcases refreshing flavors of melon and soft vanilla leading to an exceptionally smooth and lengthy balanced finish.'},\n",
       " {'': '432',\n",
       "  'name': 'Leese-Fitch Chardonnay 2016',\n",
       "  'grape': '',\n",
       "  'region': 'California',\n",
       "  'variety': 'White Wine',\n",
       "  'rating': '90.0',\n",
       "  'notes': 'A rich golden hue in color, this medium-bodied Chardonnay shows enticing aromas of spiced applesauce and citrus. A rich palate showcases refreshing flavors of melon and soft vanilla leading to an exceptionally smooth and lengthy balanced finish.'},\n",
       " {'': '433',\n",
       "  'name': 'Leese-Fitch Chardonnay 2017',\n",
       "  'grape': '',\n",
       "  'region': 'California',\n",
       "  'variety': 'White Wine',\n",
       "  'rating': '90.0',\n",
       "  'notes': 'The 2017 Leese-Fitch Chardonnay hails from fruit picked at both ends of the Lodi appellation. This blend gives the wine a core of cool climate fruit with essence of lemon, apple, and pear. The Clarksburg Viognier gives the blend some additional complexity with notes of apricot and tangerine, rounding out the mouthfeel.'},\n",
       " {'': '435',\n",
       "  'name': 'Leese-Fitch Sauvignon Blanc 2010',\n",
       "  'grape': '',\n",
       "  'region': 'California',\n",
       "  'variety': 'White Wine',\n",
       "  'rating': '90.0',\n",
       "  'notes': \"The 2010 Leese-Fitch Sauvignon Blanc is a crisp and refreshing wine. This wine has a high-tone citrus zest aroma with minerality reminiscent of a brisk ocean breeze. There's a hint of freshly squeezed grapefruit juice and tropical Pina Colada. The palate is zippy and alive with Lemon grass spice, but balanced with a touch of creamy tapioca to round out the mid-palate. \"}]"
      ]
     },
     "execution_count": 91,
     "metadata": {},
     "output_type": "execute_result"
    }
   ],
   "source": [
    "loaded"
   ]
  },
  {
   "cell_type": "markdown",
   "metadata": {},
   "source": [
    "## Using Pandas"
   ]
  },
  {
   "cell_type": "markdown",
   "metadata": {},
   "source": [
    "Loading the data"
   ]
  },
  {
   "cell_type": "code",
   "execution_count": 45,
   "metadata": {},
   "outputs": [
    {
     "data": {
      "text/html": [
       "<div>\n",
       "<style scoped>\n",
       "    .dataframe tbody tr th:only-of-type {\n",
       "        vertical-align: middle;\n",
       "    }\n",
       "\n",
       "    .dataframe tbody tr th {\n",
       "        vertical-align: top;\n",
       "    }\n",
       "\n",
       "    .dataframe thead th {\n",
       "        text-align: right;\n",
       "    }\n",
       "</style>\n",
       "<table border=\"1\" class=\"dataframe\">\n",
       "  <thead>\n",
       "    <tr style=\"text-align: right;\">\n",
       "      <th></th>\n",
       "      <th>name</th>\n",
       "      <th>grape</th>\n",
       "      <th>region</th>\n",
       "      <th>variety</th>\n",
       "      <th>rating</th>\n",
       "      <th>notes</th>\n",
       "    </tr>\n",
       "  </thead>\n",
       "  <tbody>\n",
       "    <tr>\n",
       "      <th>0</th>\n",
       "      <td>Laurenz V Charming Gruner Veltliner 2013</td>\n",
       "      <td>NaN</td>\n",
       "      <td>Kamptal, Austria</td>\n",
       "      <td>White Wine</td>\n",
       "      <td>90.0</td>\n",
       "      <td>Aromas of ripe apples and a typical Veltliner ...</td>\n",
       "    </tr>\n",
       "    <tr>\n",
       "      <th>1</th>\n",
       "      <td>Laurenz V Charming Gruner Veltliner 2014</td>\n",
       "      <td>NaN</td>\n",
       "      <td>Kamptal, Austria</td>\n",
       "      <td>White Wine</td>\n",
       "      <td>90.0</td>\n",
       "      <td>Aromas of ripe apples and a typical Veltliner ...</td>\n",
       "    </tr>\n",
       "    <tr>\n",
       "      <th>2</th>\n",
       "      <td>Laurenz V Singing Gruner Veltliner 2007</td>\n",
       "      <td>NaN</td>\n",
       "      <td>Austria</td>\n",
       "      <td>White Wine</td>\n",
       "      <td>90.0</td>\n",
       "      <td>A very attractive fruit bouquet yields apple, ...</td>\n",
       "    </tr>\n",
       "    <tr>\n",
       "      <th>3</th>\n",
       "      <td>Laurenz V Singing Gruner Veltliner 2010</td>\n",
       "      <td>NaN</td>\n",
       "      <td>Austria</td>\n",
       "      <td>White Wine</td>\n",
       "      <td>88.0</td>\n",
       "      <td>A very attractive fruit bouquet yields apple, ...</td>\n",
       "    </tr>\n",
       "    <tr>\n",
       "      <th>4</th>\n",
       "      <td>Laurenz V Singing Gruner Veltliner 2011</td>\n",
       "      <td>NaN</td>\n",
       "      <td>Austria</td>\n",
       "      <td>White Wine</td>\n",
       "      <td>88.0</td>\n",
       "      <td>A very attractive fruit bouquet yields apple, ...</td>\n",
       "    </tr>\n",
       "  </tbody>\n",
       "</table>\n",
       "</div>"
      ],
      "text/plain": [
       "                                       name  grape            region  \\\n",
       "0  Laurenz V Charming Gruner Veltliner 2013    NaN  Kamptal, Austria   \n",
       "1  Laurenz V Charming Gruner Veltliner 2014    NaN  Kamptal, Austria   \n",
       "2   Laurenz V Singing Gruner Veltliner 2007    NaN           Austria   \n",
       "3   Laurenz V Singing Gruner Veltliner 2010    NaN           Austria   \n",
       "4   Laurenz V Singing Gruner Veltliner 2011    NaN           Austria   \n",
       "\n",
       "      variety  rating                                              notes  \n",
       "0  White Wine    90.0  Aromas of ripe apples and a typical Veltliner ...  \n",
       "1  White Wine    90.0  Aromas of ripe apples and a typical Veltliner ...  \n",
       "2  White Wine    90.0  A very attractive fruit bouquet yields apple, ...  \n",
       "3  White Wine    88.0  A very attractive fruit bouquet yields apple, ...  \n",
       "4  White Wine    88.0  A very attractive fruit bouquet yields apple, ...  "
      ]
     },
     "execution_count": 45,
     "metadata": {},
     "output_type": "execute_result"
    }
   ],
   "source": [
    "import pandas as pd\n",
    "\n",
    "df = pd.read_csv('sample_data/wine-ratings-small.csv' , index_col= 0)\n",
    "df.head()"
   ]
  },
  {
   "cell_type": "markdown",
   "metadata": {},
   "source": [
    "Filtering the data"
   ]
  },
  {
   "cell_type": "code",
   "execution_count": 100,
   "metadata": {},
   "outputs": [
    {
     "data": {
      "text/html": [
       "<div>\n",
       "<style scoped>\n",
       "    .dataframe tbody tr th:only-of-type {\n",
       "        vertical-align: middle;\n",
       "    }\n",
       "\n",
       "    .dataframe tbody tr th {\n",
       "        vertical-align: top;\n",
       "    }\n",
       "\n",
       "    .dataframe thead th {\n",
       "        text-align: right;\n",
       "    }\n",
       "</style>\n",
       "<table border=\"1\" class=\"dataframe\">\n",
       "  <thead>\n",
       "    <tr style=\"text-align: right;\">\n",
       "      <th></th>\n",
       "      <th>name</th>\n",
       "      <th>grape</th>\n",
       "      <th>region</th>\n",
       "      <th>variety</th>\n",
       "      <th>rating</th>\n",
       "      <th>notes</th>\n",
       "    </tr>\n",
       "  </thead>\n",
       "  <tbody>\n",
       "    <tr>\n",
       "      <th>431</th>\n",
       "      <td>Leese-Fitch Chardonnay 2015</td>\n",
       "      <td>NaN</td>\n",
       "      <td>California</td>\n",
       "      <td>White Wine</td>\n",
       "      <td>90.0</td>\n",
       "      <td>A rich golden hue in color, this medium-bodied...</td>\n",
       "    </tr>\n",
       "    <tr>\n",
       "      <th>432</th>\n",
       "      <td>Leese-Fitch Chardonnay 2016</td>\n",
       "      <td>NaN</td>\n",
       "      <td>California</td>\n",
       "      <td>White Wine</td>\n",
       "      <td>90.0</td>\n",
       "      <td>A rich golden hue in color, this medium-bodied...</td>\n",
       "    </tr>\n",
       "    <tr>\n",
       "      <th>433</th>\n",
       "      <td>Leese-Fitch Chardonnay 2017</td>\n",
       "      <td>NaN</td>\n",
       "      <td>California</td>\n",
       "      <td>White Wine</td>\n",
       "      <td>90.0</td>\n",
       "      <td>The 2017 Leese-Fitch Chardonnay hails from fru...</td>\n",
       "    </tr>\n",
       "    <tr>\n",
       "      <th>435</th>\n",
       "      <td>Leese-Fitch Sauvignon Blanc 2010</td>\n",
       "      <td>NaN</td>\n",
       "      <td>California</td>\n",
       "      <td>White Wine</td>\n",
       "      <td>90.0</td>\n",
       "      <td>The 2010 Leese-Fitch Sauvignon Blanc is a cris...</td>\n",
       "    </tr>\n",
       "  </tbody>\n",
       "</table>\n",
       "</div>"
      ],
      "text/plain": [
       "                                 name  grape      region     variety  rating  \\\n",
       "431       Leese-Fitch Chardonnay 2015    NaN  California  White Wine    90.0   \n",
       "432       Leese-Fitch Chardonnay 2016    NaN  California  White Wine    90.0   \n",
       "433       Leese-Fitch Chardonnay 2017    NaN  California  White Wine    90.0   \n",
       "435  Leese-Fitch Sauvignon Blanc 2010    NaN  California  White Wine    90.0   \n",
       "\n",
       "                                                 notes  \n",
       "431  A rich golden hue in color, this medium-bodied...  \n",
       "432  A rich golden hue in color, this medium-bodied...  \n",
       "433  The 2017 Leese-Fitch Chardonnay hails from fru...  \n",
       "435  The 2010 Leese-Fitch Sauvignon Blanc is a cris...  "
      ]
     },
     "execution_count": 100,
     "metadata": {},
     "output_type": "execute_result"
    }
   ],
   "source": [
    "filtered_df = df[(df['region'] == 'California') &  (df['rating'] >= 90) & (df['variety'] == 'White Wine')]\n",
    "filtered_df"
   ]
  },
  {
   "cell_type": "markdown",
   "metadata": {},
   "source": [
    "Serializing the data and saving into json file"
   ]
  },
  {
   "cell_type": "code",
   "execution_count": 98,
   "metadata": {},
   "outputs": [],
   "source": [
    "filtered_df_dict = filtered_df.to_dict(orient='dict')"
   ]
  },
  {
   "cell_type": "code",
   "execution_count": null,
   "metadata": {},
   "outputs": [],
   "source": [
    "with open('best_californian_white_wines_2.json', 'w') as f:\n",
    "    json.dump(filtered_df_dict, f)"
   ]
  },
  {
   "cell_type": "markdown",
   "metadata": {},
   "source": [
    "Loading the dataframe back"
   ]
  },
  {
   "cell_type": "code",
   "execution_count": 104,
   "metadata": {},
   "outputs": [
    {
     "data": {
      "text/html": [
       "<div>\n",
       "<style scoped>\n",
       "    .dataframe tbody tr th:only-of-type {\n",
       "        vertical-align: middle;\n",
       "    }\n",
       "\n",
       "    .dataframe tbody tr th {\n",
       "        vertical-align: top;\n",
       "    }\n",
       "\n",
       "    .dataframe thead th {\n",
       "        text-align: right;\n",
       "    }\n",
       "</style>\n",
       "<table border=\"1\" class=\"dataframe\">\n",
       "  <thead>\n",
       "    <tr style=\"text-align: right;\">\n",
       "      <th></th>\n",
       "      <th>name</th>\n",
       "      <th>grape</th>\n",
       "      <th>region</th>\n",
       "      <th>variety</th>\n",
       "      <th>rating</th>\n",
       "      <th>notes</th>\n",
       "    </tr>\n",
       "  </thead>\n",
       "  <tbody>\n",
       "    <tr>\n",
       "      <th>431</th>\n",
       "      <td>Leese-Fitch Chardonnay 2015</td>\n",
       "      <td>NaN</td>\n",
       "      <td>California</td>\n",
       "      <td>White Wine</td>\n",
       "      <td>90.0</td>\n",
       "      <td>A rich golden hue in color, this medium-bodied...</td>\n",
       "    </tr>\n",
       "    <tr>\n",
       "      <th>432</th>\n",
       "      <td>Leese-Fitch Chardonnay 2016</td>\n",
       "      <td>NaN</td>\n",
       "      <td>California</td>\n",
       "      <td>White Wine</td>\n",
       "      <td>90.0</td>\n",
       "      <td>A rich golden hue in color, this medium-bodied...</td>\n",
       "    </tr>\n",
       "    <tr>\n",
       "      <th>433</th>\n",
       "      <td>Leese-Fitch Chardonnay 2017</td>\n",
       "      <td>NaN</td>\n",
       "      <td>California</td>\n",
       "      <td>White Wine</td>\n",
       "      <td>90.0</td>\n",
       "      <td>The 2017 Leese-Fitch Chardonnay hails from fru...</td>\n",
       "    </tr>\n",
       "    <tr>\n",
       "      <th>435</th>\n",
       "      <td>Leese-Fitch Sauvignon Blanc 2010</td>\n",
       "      <td>NaN</td>\n",
       "      <td>California</td>\n",
       "      <td>White Wine</td>\n",
       "      <td>90.0</td>\n",
       "      <td>The 2010 Leese-Fitch Sauvignon Blanc is a cris...</td>\n",
       "    </tr>\n",
       "  </tbody>\n",
       "</table>\n",
       "</div>"
      ],
      "text/plain": [
       "                                 name  grape      region     variety  rating  \\\n",
       "431       Leese-Fitch Chardonnay 2015    NaN  California  White Wine    90.0   \n",
       "432       Leese-Fitch Chardonnay 2016    NaN  California  White Wine    90.0   \n",
       "433       Leese-Fitch Chardonnay 2017    NaN  California  White Wine    90.0   \n",
       "435  Leese-Fitch Sauvignon Blanc 2010    NaN  California  White Wine    90.0   \n",
       "\n",
       "                                                 notes  \n",
       "431  A rich golden hue in color, this medium-bodied...  \n",
       "432  A rich golden hue in color, this medium-bodied...  \n",
       "433  The 2017 Leese-Fitch Chardonnay hails from fru...  \n",
       "435  The 2010 Leese-Fitch Sauvignon Blanc is a cris...  "
      ]
     },
     "execution_count": 104,
     "metadata": {},
     "output_type": "execute_result"
    }
   ],
   "source": [
    "with open('best_californian_white_wines_2.json') as f:\n",
    "    loaded_df = json.load(f)\n",
    "\n",
    "pd.DataFrame(loaded_df)"
   ]
  }
 ],
 "metadata": {
  "kernelspec": {
   "display_name": "Python 3",
   "language": "python",
   "name": "python3"
  },
  "language_info": {
   "codemirror_mode": {
    "name": "ipython",
    "version": 3
   },
   "file_extension": ".py",
   "mimetype": "text/x-python",
   "name": "python",
   "nbconvert_exporter": "python",
   "pygments_lexer": "ipython3",
   "version": "3.12.2"
  }
 },
 "nbformat": 4,
 "nbformat_minor": 2
}
